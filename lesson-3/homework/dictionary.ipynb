{
 "cells": [
  {
   "cell_type": "markdown",
   "id": "aed4388b",
   "metadata": {},
   "source": [
    "DICTIONARY"
   ]
  },
  {
   "cell_type": "code",
   "execution_count": null,
   "id": "43e849df",
   "metadata": {},
   "outputs": [],
   "source": []
  },
  {
   "cell_type": "code",
   "execution_count": null,
   "id": "a2a53200",
   "metadata": {},
   "outputs": [],
   "source": []
  },
  {
   "cell_type": "code",
   "execution_count": 2,
   "id": "7cde4ee6",
   "metadata": {},
   "outputs": [],
   "source": [
    "ava = {\n",
    "'k1': \"maxxa\",\n",
    "'kk2': 'arbiter',\n",
    "'k3': '3434a',\n",
    "\n",
    "}"
   ]
  },
  {
   "cell_type": "code",
   "execution_count": 8,
   "id": "a301e554",
   "metadata": {},
   "outputs": [
    {
     "ename": "KeyError",
     "evalue": "'k4'",
     "output_type": "error",
     "traceback": [
      "\u001b[31m---------------------------------------------------------------------------\u001b[39m",
      "\u001b[31mKeyError\u001b[39m                                  Traceback (most recent call last)",
      "\u001b[36mCell\u001b[39m\u001b[36m \u001b[39m\u001b[32mIn[8]\u001b[39m\u001b[32m, line 3\u001b[39m\n\u001b[32m      1\u001b[39m ava.keys()\n\u001b[32m      2\u001b[39m ava[\u001b[33m'\u001b[39m\u001b[33mk1\u001b[39m\u001b[33m'\u001b[39m]\n\u001b[32m----> \u001b[39m\u001b[32m3\u001b[39m \u001b[43mava\u001b[49m\u001b[43m[\u001b[49m\u001b[33;43m'\u001b[39;49m\u001b[33;43mk4\u001b[39;49m\u001b[33;43m'\u001b[39;49m\u001b[43m]\u001b[49m\n",
      "\u001b[31mKeyError\u001b[39m: 'k4'"
     ]
    }
   ],
   "source": [
    "ava.keys()\n",
    "ava['k1']\n",
    "ava['k4']"
   ]
  },
  {
   "cell_type": "code",
   "execution_count": 12,
   "id": "75a960ff",
   "metadata": {},
   "outputs": [
    {
     "name": "stdout",
     "output_type": "stream",
     "text": [
      "maxxa\n"
     ]
    }
   ],
   "source": [
    "print(ava['k1'])"
   ]
  },
  {
   "cell_type": "code",
   "execution_count": 17,
   "id": "29ecfd30",
   "metadata": {},
   "outputs": [
    {
     "data": {
      "text/plain": [
       "3"
      ]
     },
     "execution_count": 17,
     "metadata": {},
     "output_type": "execute_result"
    }
   ],
   "source": [
    "\n",
    " \n",
    "len(ava.keys())"
   ]
  },
  {
   "cell_type": "code",
   "execution_count": 18,
   "id": "15b9f3ab",
   "metadata": {},
   "outputs": [
    {
     "data": {
      "text/plain": [
       "dict_keys(['k1', 'kk2', 'k3'])"
      ]
     },
     "execution_count": 18,
     "metadata": {},
     "output_type": "execute_result"
    }
   ],
   "source": [
    "ava.keys()"
   ]
  },
  {
   "cell_type": "code",
   "execution_count": 19,
   "id": "3c19a308",
   "metadata": {},
   "outputs": [
    {
     "data": {
      "text/plain": [
       "dict_values(['maxxa', 'arbiter', '3434a'])"
      ]
     },
     "execution_count": 19,
     "metadata": {},
     "output_type": "execute_result"
    }
   ],
   "source": [
    "ava.values()"
   ]
  },
  {
   "cell_type": "markdown",
   "id": "fe2ed830",
   "metadata": {},
   "source": [
    "6 below"
   ]
  },
  {
   "cell_type": "code",
   "execution_count": 119,
   "id": "82114b8f",
   "metadata": {},
   "outputs": [
    {
     "name": "stdout",
     "output_type": "stream",
     "text": [
      "{'a': 23, 'b': 34}\n"
     ]
    },
    {
     "data": {
      "text/plain": [
       "{'da': {'a': 23, 'b': 34}, 'ba': {'b': 12, 'd': 90}}"
      ]
     },
     "execution_count": 119,
     "metadata": {},
     "output_type": "execute_result"
    }
   ],
   "source": [
    "da = { 'a':23, 'b':34}\n",
    "ba = {'b':12, 'd':90}\n",
    "print(da)\n",
    "bad = { \"da\": da,\n",
    "       \"ba\": ba,\n",
    "\n",
    "\n",
    "}\n",
    "bad"
   ]
  },
  {
   "cell_type": "code",
   "execution_count": null,
   "id": "3dde0b72",
   "metadata": {},
   "outputs": [
    {
     "data": {
      "text/plain": [
       "{}"
      ]
     },
     "execution_count": 28,
     "metadata": {},
     "output_type": "execute_result"
    }
   ],
   "source": [
    "#8\n",
    "dict(())\n",
    "dict()"
   ]
  },
  {
   "cell_type": "code",
   "execution_count": null,
   "id": "d4cc8cef",
   "metadata": {},
   "outputs": [
    {
     "data": {
      "text/plain": [
       "12"
      ]
     },
     "execution_count": 14,
     "metadata": {},
     "output_type": "execute_result"
    }
   ],
   "source": [
    "ba.pop(\"b\")   #7\n"
   ]
  },
  {
   "cell_type": "code",
   "execution_count": 35,
   "id": "ca769fe8",
   "metadata": {},
   "outputs": [
    {
     "data": {
      "text/plain": [
       "dict_items([('k1', 'maxxa'), ('kk2', 'arbiter'), ('k3', '3434a')])"
      ]
     },
     "execution_count": 35,
     "metadata": {},
     "output_type": "execute_result"
    }
   ],
   "source": [
    "ava.items()"
   ]
  },
  {
   "cell_type": "code",
   "execution_count": 3,
   "id": "e58e1ddd",
   "metadata": {},
   "outputs": [
    {
     "name": "stdout",
     "output_type": "stream",
     "text": [
      "()\n"
     ]
    }
   ],
   "source": [
    "ava = {\n",
    "'k1': \"maxxa\",\n",
    "'kk2': 'arbiter',\n",
    "'k3': '3434a',\n",
    "\"k1\": \"ekinshi\",\n",
    "():(),\n",
    "\n",
    "}\n",
    "print(ava[()])"
   ]
  },
  {
   "cell_type": "code",
   "execution_count": 52,
   "id": "d04ce00d",
   "metadata": {},
   "outputs": [
    {
     "name": "stdout",
     "output_type": "stream",
     "text": [
      "{}\n"
     ]
    }
   ],
   "source": [
    "myy_dict={}\n",
    "print(myy_dict)"
   ]
  },
  {
   "cell_type": "code",
   "execution_count": 65,
   "id": "5597b244",
   "metadata": {},
   "outputs": [
    {
     "name": "stdout",
     "output_type": "stream",
     "text": [
      "allright, there is\n"
     ]
    }
   ],
   "source": [
    "ava.get('k1')\n",
    "ava[\"k4\"]=4544\n",
    "if 'k1' in ava:\n",
    "    print('allright, there is')"
   ]
  },
  {
   "cell_type": "code",
   "execution_count": 7,
   "id": "9411c867",
   "metadata": {},
   "outputs": [
    {
     "name": "stdout",
     "output_type": "stream",
     "text": [
      "key-value: k1 maxxa\n"
     ]
    }
   ],
   "source": [
    "if \"k1\" in ava:\n",
    "    print(\"key-value:\", 'k1', ava['k1'])\n",
    "else:\n",
    "    print(\"key not exist\")\n",
    "\n",
    "    #10"
   ]
  },
  {
   "cell_type": "code",
   "execution_count": 8,
   "id": "c014c9f2",
   "metadata": {},
   "outputs": [
    {
     "data": {
      "text/plain": [
       "{'k1': 'maxxa', 'kk2': 'maxc', 'k3': '3434a'}"
      ]
     },
     "execution_count": 8,
     "metadata": {},
     "output_type": "execute_result"
    }
   ],
   "source": [
    "ava"
   ]
  },
  {
   "cell_type": "code",
   "execution_count": 9,
   "id": "80df5d94",
   "metadata": {},
   "outputs": [],
   "source": [
    "ava.update({\"k1\":45})"
   ]
  },
  {
   "cell_type": "code",
   "execution_count": 10,
   "id": "0b95950e",
   "metadata": {},
   "outputs": [
    {
     "name": "stdout",
     "output_type": "stream",
     "text": [
      "k1 45\n"
     ]
    }
   ],
   "source": [
    "print(\"k1\",ava['k1'])"
   ]
  },
  {
   "cell_type": "code",
   "execution_count": null,
   "id": "583c8225",
   "metadata": {},
   "outputs": [],
   "source": []
  },
  {
   "cell_type": "code",
   "execution_count": 11,
   "id": "c798a102",
   "metadata": {},
   "outputs": [
    {
     "ename": "TypeError",
     "evalue": "list.count() takes exactly one argument (0 given)",
     "output_type": "error",
     "traceback": [
      "\u001b[31m---------------------------------------------------------------------------\u001b[39m",
      "\u001b[31mTypeError\u001b[39m                                 Traceback (most recent call last)",
      "\u001b[36mCell\u001b[39m\u001b[36m \u001b[39m\u001b[32mIn[11]\u001b[39m\u001b[32m, line 2\u001b[39m\n\u001b[32m      1\u001b[39m \u001b[38;5;28mlen\u001b[39m(ava.keys())\n\u001b[32m----> \u001b[39m\u001b[32m2\u001b[39m \u001b[38;5;28;43mlist\u001b[39;49m\u001b[43m(\u001b[49m\u001b[43mava\u001b[49m\u001b[43m.\u001b[49m\u001b[43mvalues\u001b[49m\u001b[43m(\u001b[49m\u001b[43m)\u001b[49m\u001b[43m)\u001b[49m\u001b[43m.\u001b[49m\u001b[43mcount\u001b[49m\u001b[43m(\u001b[49m\u001b[43m)\u001b[49m\n",
      "\u001b[31mTypeError\u001b[39m: list.count() takes exactly one argument (0 given)"
     ]
    }
   ],
   "source": [
    "len(ava.keys())\n",
    "list(ava.values()).count()"
   ]
  },
  {
   "cell_type": "code",
   "execution_count": 5,
   "id": "3c477b81",
   "metadata": {},
   "outputs": [
    {
     "data": {
      "text/plain": [
       "{'k1': 'maxxa', 'kk2': 'arbiter', 'k3': '3434a'}"
      ]
     },
     "execution_count": 5,
     "metadata": {},
     "output_type": "execute_result"
    }
   ],
   "source": [
    "ava"
   ]
  },
  {
   "cell_type": "code",
   "execution_count": 6,
   "id": "3903ef02",
   "metadata": {},
   "outputs": [
    {
     "data": {
      "text/plain": [
       "{'k1': 'maxxa', 'kk2': 'maxc', 'k3': '3434a'}"
      ]
     },
     "execution_count": 6,
     "metadata": {},
     "output_type": "execute_result"
    }
   ],
   "source": [
    "ava.update({'kk2':\"maxc\"})\n",
    "ava\n"
   ]
  }
 ],
 "metadata": {
  "kernelspec": {
   "display_name": "Python 3",
   "language": "python",
   "name": "python3"
  },
  "language_info": {
   "codemirror_mode": {
    "name": "ipython",
    "version": 3
   },
   "file_extension": ".py",
   "mimetype": "text/x-python",
   "name": "python",
   "nbconvert_exporter": "python",
   "pygments_lexer": "ipython3",
   "version": "3.12.10"
  }
 },
 "nbformat": 4,
 "nbformat_minor": 5
}
