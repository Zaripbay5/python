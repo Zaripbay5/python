{
 "cells": [
  {
   "cell_type": "code",
   "execution_count": 3,
   "id": "23df3435",
   "metadata": {},
   "outputs": [
    {
     "name": "stdout",
     "output_type": "stream",
     "text": [
      "{32, 'asd', 34, 5, 'adfs', 'asdf', 23}\n"
     ]
    }
   ],
   "source": [
    "abb = { 23,5,32,\"asd\", \"asdf\"}\n",
    "abba = {23,34,32,\"asd\", \"adfs\"}\n",
    "bbaa = abb.union(abba)\n",
    "print(bbaa)\n",
    "# bbaa=abb\n",
    "# print(result)"
   ]
  },
  {
   "cell_type": "code",
   "execution_count": 4,
   "id": "21530599",
   "metadata": {},
   "outputs": [],
   "source": [
    "bbab=abb.intersection(abba)"
   ]
  },
  {
   "cell_type": "code",
   "execution_count": 18,
   "id": "5728c000",
   "metadata": {},
   "outputs": [
    {
     "name": "stdout",
     "output_type": "stream",
     "text": [
      "{32, 'asd', 23}\n"
     ]
    }
   ],
   "source": [
    "print(bbab)"
   ]
  },
  {
   "cell_type": "code",
   "execution_count": 16,
   "id": "cb7fdd8c",
   "metadata": {},
   "outputs": [
    {
     "name": "stdout",
     "output_type": "stream",
     "text": [
      "{'asdf', 5}\n",
      "{'asdf', 5}\n"
     ]
    }
   ],
   "source": [
    "bbaas=abb.difference(abba )  \n",
    "print(bbaas) \n",
    "bbah =  abb - abba\n",
    "print(bbah)"
   ]
  },
  {
   "cell_type": "code",
   "execution_count": 21,
   "id": "b1679416",
   "metadata": {},
   "outputs": [
    {
     "name": "stdout",
     "output_type": "stream",
     "text": [
      "True\n"
     ]
    }
   ],
   "source": [
    "cbab ={32,'asd'}\n",
    "print( cbab.issubset(bbab))"
   ]
  },
  {
   "cell_type": "code",
   "execution_count": 22,
   "id": "3e27e6fb",
   "metadata": {},
   "outputs": [
    {
     "name": "stdout",
     "output_type": "stream",
     "text": [
      "True\n"
     ]
    }
   ],
   "source": [
    "print(\"asd\" in bbab)"
   ]
  },
  {
   "cell_type": "code",
   "execution_count": 2,
   "id": "ace108c1",
   "metadata": {},
   "outputs": [
    {
     "ename": "NameError",
     "evalue": "name 'bbab' is not defined",
     "output_type": "error",
     "traceback": [
      "\u001b[31m---------------------------------------------------------------------------\u001b[39m",
      "\u001b[31mNameError\u001b[39m                                 Traceback (most recent call last)",
      "\u001b[36mCell\u001b[39m\u001b[36m \u001b[39m\u001b[32mIn[2]\u001b[39m\u001b[32m, line 1\u001b[39m\n\u001b[32m----> \u001b[39m\u001b[32m1\u001b[39m \u001b[38;5;28mprint\u001b[39m(\u001b[38;5;28mlen\u001b[39m(\u001b[43mbbab\u001b[49m)) \u001b[38;5;66;03m#6\u001b[39;00m\n\u001b[32m      2\u001b[39m bbab.add(\u001b[33m\"\u001b[39m\u001b[33mdfsa\u001b[39m\u001b[33m\"\u001b[39m)\n\u001b[32m      3\u001b[39m bbab\n",
      "\u001b[31mNameError\u001b[39m: name 'bbab' is not defined"
     ]
    }
   ],
   "source": [
    "print(len(bbab)) #6\n",
    "bbab.add(\"dfsa\")\n",
    "bbab"
   ]
  },
  {
   "cell_type": "markdown",
   "id": "1794ba77",
   "metadata": {},
   "source": [
    "#7"
   ]
  },
  {
   "cell_type": "code",
   "execution_count": null,
   "id": "e5aef2e9",
   "metadata": {},
   "outputs": [],
   "source": [
    "llis = [45,56,34,45,'as','as','mad']\n"
   ]
  },
  {
   "cell_type": "code",
   "execution_count": 36,
   "id": "64272875",
   "metadata": {},
   "outputs": [
    {
     "name": "stdout",
     "output_type": "stream",
     "text": [
      "{'dfsa', 'asd'}\n"
     ]
    }
   ],
   "source": [
    "bbab.remove(32)\n",
    "print(bbab)"
   ]
  },
  {
   "cell_type": "code",
   "execution_count": 5,
   "id": "37d82d93",
   "metadata": {},
   "outputs": [],
   "source": [
    "bbab.add(2)"
   ]
  }
 ],
 "metadata": {
  "kernelspec": {
   "display_name": "Python 3",
   "language": "python",
   "name": "python3"
  },
  "language_info": {
   "codemirror_mode": {
    "name": "ipython",
    "version": 3
   },
   "file_extension": ".py",
   "mimetype": "text/x-python",
   "name": "python",
   "nbconvert_exporter": "python",
   "pygments_lexer": "ipython3",
   "version": "3.12.10"
  }
 },
 "nbformat": 4,
 "nbformat_minor": 5
}
