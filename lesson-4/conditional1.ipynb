{
 "cells": [
  {
   "cell_type": "code",
   "execution_count": 46,
   "id": "2b6b322f",
   "metadata": {},
   "outputs": [
    {
     "name": "stdout",
     "output_type": "stream",
     "text": [
      "cnt: 4\n",
      "cnt: 5\n",
      "cnt: 6\n",
      "cnt: 7\n",
      "cnt: 8\n",
      "cnt: 9\n",
      "cnt: 10\n"
     ]
    }
   ],
   "source": [
    "cnt = 3\n",
    "while True:\n",
    "   cnt+=1\n",
    "   print(\"cnt:\", cnt)\n",
    "   if cnt ==10:\n",
    "      break"
   ]
  },
  {
   "cell_type": "code",
   "execution_count": 47,
   "id": "643983f5",
   "metadata": {},
   "outputs": [
    {
     "name": "stdout",
     "output_type": "stream",
     "text": [
      "[1, 1, 3, 4]\n"
     ]
    }
   ],
   "source": [
    "list1 = [1, 1, 2]   #1.1\n",
    "list2 = [2, 3, 4]\n",
    "l3=[]\n",
    "for g in list1:\n",
    "    if g in list2:\n",
    "        list1.remove(g)\n",
    "        list2.remove(g)\n",
    "l3.extend(list1)\n",
    "l3.extend(list2)\n",
    "print(l3)"
   ]
  },
  {
   "cell_type": "code",
   "execution_count": 48,
   "id": "db1ecdaf",
   "metadata": {},
   "outputs": [
    {
     "name": "stdout",
     "output_type": "stream",
     "text": [
      "[1, 1, 3, 4]\n",
      "[1, 1, 3, 3]\n"
     ]
    }
   ],
   "source": [
    "list1 = [1, 1, 2]\n",
    "list2 = [2, 3, 4]\n",
    "for g in list1:\n",
    "    if g in list2:\n",
    "        list1.remove(g)\n",
    "        list2.remove(g)\n",
    "        list1.extend(list2)\n",
    "        print(list1)"
   ]
  },
  {
   "cell_type": "code",
   "execution_count": 49,
   "id": "b712fb2d",
   "metadata": {},
   "outputs": [
    {
     "data": {
      "text/plain": [
       "[1, 2, 3, 4, 5, 6]"
      ]
     },
     "execution_count": 49,
     "metadata": {},
     "output_type": "execute_result"
    }
   ],
   "source": [
    "ll1 = [1,2,3]  #1.2\n",
    "ll2= [4,5,6]\n",
    "ll3 = ll1 +ll2\n",
    "ll3"
   ]
  },
  {
   "cell_type": "markdown",
   "id": "076d6594",
   "metadata": {},
   "source": [
    "QAldi islenbey"
   ]
  },
  {
   "cell_type": "code",
   "execution_count": null,
   "id": "f6fc0856",
   "metadata": {},
   "outputs": [],
   "source": []
  },
  {
   "cell_type": "code",
   "execution_count": 31,
   "id": "81e5532d",
   "metadata": {},
   "outputs": [
    {
     "name": "stdout",
     "output_type": "stream",
     "text": [
      "[1, 2, 4, 2, 4, 5]\n"
     ]
    }
   ],
   "source": [
    "l1=[1,1,2,3,4,2]\n",
    "l2=[1,3,4,5]\n",
    "l3=[]\n",
    "for x in l1:\n",
    "    if x in l2:\n",
    "        l1.remove(x)\n",
    "        l2.remove(x)\n",
    "l3.extend(l1)\n",
    "l3.extend(l2)\n",
    "    # else:\n",
    "    #     l3.append(x)\n",
    "    #     l3.extend(l2)\n",
    "print(l3)\n"
   ]
  },
  {
   "cell_type": "code",
   "execution_count": 32,
   "id": "2228041b",
   "metadata": {},
   "outputs": [],
   "source": [
    "def uncommon_elements(list1, list2):\n",
    "    result = []\n",
    "    l1 = list1[:]\n",
    "    l2 = list2[:]\n",
    "    for x in list1:\n",
    "        if x in l2:\n",
    "            l2.remove(x)\n",
    "            l1.remove(x)\n",
    "    result.extend(l1)\n",
    "    result.extend(l2)\n",
    "    return result\n"
   ]
  },
  {
   "cell_type": "code",
   "execution_count": 45,
   "id": "f41b3ca4",
   "metadata": {},
   "outputs": [
    {
     "name": "stdout",
     "output_type": "stream",
     "text": [
      "1\n",
      "4\n",
      "9\n",
      "16\n"
     ]
    }
   ],
   "source": [
    "#2.1{}\n",
    "g = range(1,5)\n",
    "for a in g:\n",
    "    f=a**2\n",
    "    print(f)"
   ]
  },
  {
   "cell_type": "code",
   "execution_count": 6,
   "id": "4d514fa6",
   "metadata": {},
   "outputs": [
    {
     "ename": "TypeError",
     "evalue": "cannot unpack non-iterable int object",
     "output_type": "error",
     "traceback": [
      "\u001b[31m---------------------------------------------------------------------------\u001b[39m",
      "\u001b[31mTypeError\u001b[39m                                 Traceback (most recent call last)",
      "\u001b[36mCell\u001b[39m\u001b[36m \u001b[39m\u001b[32mIn[6]\u001b[39m\u001b[32m, line 3\u001b[39m\n\u001b[32m      1\u001b[39m \u001b[38;5;66;03m#4\u001b[39;00m\n\u001b[32m      2\u001b[39m \u001b[38;5;28;01mimport\u001b[39;00m\u001b[38;5;250m \u001b[39m\u001b[34;01mrandom\u001b[39;00m\n\u001b[32m----> \u001b[39m\u001b[32m3\u001b[39m \u001b[38;5;28;01mfor\u001b[39;00m n,g \u001b[38;5;129;01min\u001b[39;00m [\u001b[32m0\u001b[39m,\u001b[32m100\u001b[39m]:\n\u001b[32m      4\u001b[39m     \u001b[38;5;28minput\u001b[39m(\u001b[38;5;28mint\u001b[39m(g))\n\u001b[32m      5\u001b[39m     \u001b[38;5;28;01mif\u001b[39;00m g>\u001b[32m80\u001b[39m:\n",
      "\u001b[31mTypeError\u001b[39m: cannot unpack non-iterable int object"
     ]
    }
   ],
   "source": [
    "#4\n",
    "import random\n",
    "for n,g in [0,100]:\n",
    "    input(int(g))\n",
    "    if g>80:\n",
    "        print(\"too high\")\n",
    "    elif g<20:\n",
    "        print(\"too low\")\n",
    "    if g==n:\n",
    "        print('yess')\n",
    "    else:('wrong guess')\n",
    "\n"
   ]
  },
  {
   "cell_type": "code",
   "execution_count": null,
   "id": "5d061858",
   "metadata": {},
   "outputs": [],
   "source": []
  }
 ],
 "metadata": {
  "kernelspec": {
   "display_name": "Python 3",
   "language": "python",
   "name": "python3"
  },
  "language_info": {
   "codemirror_mode": {
    "name": "ipython",
    "version": 3
   },
   "file_extension": ".py",
   "mimetype": "text/x-python",
   "name": "python",
   "nbconvert_exporter": "python",
   "pygments_lexer": "ipython3",
   "version": "3.12.10"
  }
 },
 "nbformat": 4,
 "nbformat_minor": 5
}
